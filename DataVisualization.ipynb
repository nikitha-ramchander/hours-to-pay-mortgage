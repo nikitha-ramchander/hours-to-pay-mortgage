{
  "nbformat": 4,
  "nbformat_minor": 0,
  "metadata": {
    "colab": {
      "name": "DataVisualization.ipynb",
      "provenance": [],
      "collapsed_sections": [],
      "authorship_tag": "ABX9TyO8z64tXqOz3+WYtddGQpvE",
      "include_colab_link": true
    },
    "kernelspec": {
      "name": "python3",
      "display_name": "Python 3"
    }
  },
  "cells": [
    {
      "cell_type": "markdown",
      "metadata": {
        "id": "view-in-github",
        "colab_type": "text"
      },
      "source": [
        "<a href=\"https://colab.research.google.com/github/nikitha-ramchander/hours-to-pay-mortgage/blob/main/DataVisualization.ipynb\" target=\"_parent\"><img src=\"https://colab.research.google.com/assets/colab-badge.svg\" alt=\"Open In Colab\"/></a>"
      ]
    },
    {
      "cell_type": "markdown",
      "metadata": {
        "id": "-_hqiKYC0W6W"
      },
      "source": [
        "# Informative Visualization of \"Hours to Work to Pay a Mortgage in California\""
      ]
    },
    {
      "cell_type": "code",
      "metadata": {
        "colab": {
          "base_uri": "https://localhost:8080/"
        },
        "id": "ouEsFXM4dBtE",
        "outputId": "1be2619d-fdee-4c86-e84f-227f8797f39c"
      },
      "source": [
        "#Mount Data\n",
        "from google.colab import drive\n",
        "drive.mount('/content/drive')"
      ],
      "execution_count": 2,
      "outputs": [
        {
          "output_type": "stream",
          "text": [
            "Mounted at /content/drive\n"
          ],
          "name": "stdout"
        }
      ]
    },
    {
      "cell_type": "code",
      "metadata": {
        "id": "xkhGFQUzf-ih"
      },
      "source": [
        "#Import\n",
        "import pandas as pd\n",
        "import numpy as np\n",
        "import matplotlib.pyplot as plt"
      ],
      "execution_count": 3,
      "outputs": []
    },
    {
      "cell_type": "code",
      "metadata": {
        "colab": {
          "base_uri": "https://localhost:8080/",
          "height": 221
        },
        "id": "yA_VgwUFgGgL",
        "outputId": "27407ed7-ae65-4218-ae00-44f77879d0cb"
      },
      "source": [
        "#Load Data\n",
        "df = pd.read_excel('/content/drive/MyDrive/Coding Dojo/Week 3: Data Visualization/Hours to Pay Mortgage.xlsx')\n",
        "df.head()"
      ],
      "execution_count": 4,
      "outputs": [
        {
          "output_type": "execute_result",
          "data": {
            "text/html": [
              "<div>\n",
              "<style scoped>\n",
              "    .dataframe tbody tr th:only-of-type {\n",
              "        vertical-align: middle;\n",
              "    }\n",
              "\n",
              "    .dataframe tbody tr th {\n",
              "        vertical-align: top;\n",
              "    }\n",
              "\n",
              "    .dataframe thead th {\n",
              "        text-align: right;\n",
              "    }\n",
              "</style>\n",
              "<table border=\"1\" class=\"dataframe\">\n",
              "  <thead>\n",
              "    <tr style=\"text-align: right;\">\n",
              "      <th></th>\n",
              "      <th>City</th>\n",
              "      <th>State</th>\n",
              "      <th>Median Home Listing Price</th>\n",
              "      <th>30-year Fixed Mortgage Rate</th>\n",
              "      <th>Monthly Mortgage Payment</th>\n",
              "      <th>Median Household Income</th>\n",
              "      <th>Hours per Month to Afford a Home</th>\n",
              "      <th>Number of Periods</th>\n",
              "      <th>Present Value</th>\n",
              "    </tr>\n",
              "  </thead>\n",
              "  <tbody>\n",
              "    <tr>\n",
              "      <th>0</th>\n",
              "      <td>Toledo</td>\n",
              "      <td>Ohio</td>\n",
              "      <td>74900</td>\n",
              "      <td>0.0361</td>\n",
              "      <td>273</td>\n",
              "      <td>33687</td>\n",
              "      <td>16.9</td>\n",
              "      <td>360</td>\n",
              "      <td>59920</td>\n",
              "    </tr>\n",
              "    <tr>\n",
              "      <th>1</th>\n",
              "      <td>Memphis</td>\n",
              "      <td>Tennessee</td>\n",
              "      <td>88500</td>\n",
              "      <td>0.0359</td>\n",
              "      <td>321</td>\n",
              "      <td>36445</td>\n",
              "      <td>18.4</td>\n",
              "      <td>360</td>\n",
              "      <td>70800</td>\n",
              "    </tr>\n",
              "    <tr>\n",
              "      <th>2</th>\n",
              "      <td>Cleveland</td>\n",
              "      <td>Ohio</td>\n",
              "      <td>70000</td>\n",
              "      <td>0.0361</td>\n",
              "      <td>255</td>\n",
              "      <td>26150</td>\n",
              "      <td>20.3</td>\n",
              "      <td>360</td>\n",
              "      <td>56000</td>\n",
              "    </tr>\n",
              "    <tr>\n",
              "      <th>3</th>\n",
              "      <td>Buffalo</td>\n",
              "      <td>New York</td>\n",
              "      <td>90000</td>\n",
              "      <td>0.0360</td>\n",
              "      <td>327</td>\n",
              "      <td>31918</td>\n",
              "      <td>21.4</td>\n",
              "      <td>360</td>\n",
              "      <td>72000</td>\n",
              "    </tr>\n",
              "    <tr>\n",
              "      <th>4</th>\n",
              "      <td>Baltimore</td>\n",
              "      <td>Maryland</td>\n",
              "      <td>139000</td>\n",
              "      <td>0.0358</td>\n",
              "      <td>504</td>\n",
              "      <td>42241</td>\n",
              "      <td>24.9</td>\n",
              "      <td>360</td>\n",
              "      <td>111200</td>\n",
              "    </tr>\n",
              "  </tbody>\n",
              "</table>\n",
              "</div>"
            ],
            "text/plain": [
              "        City      State  ...  Number of Periods  Present Value\n",
              "0     Toledo       Ohio  ...                360          59920\n",
              "1    Memphis  Tennessee  ...                360          70800\n",
              "2  Cleveland       Ohio  ...                360          56000\n",
              "3    Buffalo   New York  ...                360          72000\n",
              "4  Baltimore   Maryland  ...                360         111200\n",
              "\n",
              "[5 rows x 9 columns]"
            ]
          },
          "metadata": {
            "tags": []
          },
          "execution_count": 4
        }
      ]
    },
    {
      "cell_type": "code",
      "metadata": {
        "id": "wjKwXdgGwgAa"
      },
      "source": [
        "caliFilter = df['State'] == 'California'"
      ],
      "execution_count": 5,
      "outputs": []
    },
    {
      "cell_type": "code",
      "metadata": {
        "colab": {
          "base_uri": "https://localhost:8080/",
          "height": 644
        },
        "id": "GuRB2_2pxtTq",
        "outputId": "420ca21c-e306-48ea-f049-a7c330b3579d"
      },
      "source": [
        "df_cali = df.loc[caliFilter]\n",
        "df_cali"
      ],
      "execution_count": 7,
      "outputs": [
        {
          "output_type": "execute_result",
          "data": {
            "text/html": [
              "<div>\n",
              "<style scoped>\n",
              "    .dataframe tbody tr th:only-of-type {\n",
              "        vertical-align: middle;\n",
              "    }\n",
              "\n",
              "    .dataframe tbody tr th {\n",
              "        vertical-align: top;\n",
              "    }\n",
              "\n",
              "    .dataframe thead th {\n",
              "        text-align: right;\n",
              "    }\n",
              "</style>\n",
              "<table border=\"1\" class=\"dataframe\">\n",
              "  <thead>\n",
              "    <tr style=\"text-align: right;\">\n",
              "      <th></th>\n",
              "      <th>City</th>\n",
              "      <th>State</th>\n",
              "      <th>Median Home Listing Price</th>\n",
              "      <th>30-year Fixed Mortgage Rate</th>\n",
              "      <th>Monthly Mortgage Payment</th>\n",
              "      <th>Median Household Income</th>\n",
              "      <th>Hours per Month to Afford a Home</th>\n",
              "      <th>Number of Periods</th>\n",
              "      <th>Present Value</th>\n",
              "    </tr>\n",
              "  </thead>\n",
              "  <tbody>\n",
              "    <tr>\n",
              "      <th>33</th>\n",
              "      <td>Bakersfield</td>\n",
              "      <td>California</td>\n",
              "      <td>266612</td>\n",
              "      <td>0.0355</td>\n",
              "      <td>964</td>\n",
              "      <td>57095</td>\n",
              "      <td>35.2</td>\n",
              "      <td>360</td>\n",
              "      <td>213290</td>\n",
              "    </tr>\n",
              "    <tr>\n",
              "      <th>58</th>\n",
              "      <td>Sacramento</td>\n",
              "      <td>California</td>\n",
              "      <td>292900</td>\n",
              "      <td>0.0355</td>\n",
              "      <td>1059</td>\n",
              "      <td>50739</td>\n",
              "      <td>43.5</td>\n",
              "      <td>360</td>\n",
              "      <td>234320</td>\n",
              "    </tr>\n",
              "    <tr>\n",
              "      <th>61</th>\n",
              "      <td>Stockton</td>\n",
              "      <td>California</td>\n",
              "      <td>275000</td>\n",
              "      <td>0.0355</td>\n",
              "      <td>994</td>\n",
              "      <td>44797</td>\n",
              "      <td>46.3</td>\n",
              "      <td>360</td>\n",
              "      <td>220000</td>\n",
              "    </tr>\n",
              "    <tr>\n",
              "      <th>63</th>\n",
              "      <td>Fresno</td>\n",
              "      <td>California</td>\n",
              "      <td>258950</td>\n",
              "      <td>0.0355</td>\n",
              "      <td>936</td>\n",
              "      <td>41531</td>\n",
              "      <td>47.0</td>\n",
              "      <td>360</td>\n",
              "      <td>207160</td>\n",
              "    </tr>\n",
              "    <tr>\n",
              "      <th>70</th>\n",
              "      <td>San Bernardino</td>\n",
              "      <td>California</td>\n",
              "      <td>265000</td>\n",
              "      <td>0.0355</td>\n",
              "      <td>958</td>\n",
              "      <td>37047</td>\n",
              "      <td>54.0</td>\n",
              "      <td>360</td>\n",
              "      <td>212000</td>\n",
              "    </tr>\n",
              "    <tr>\n",
              "      <th>71</th>\n",
              "      <td>Riverside</td>\n",
              "      <td>California</td>\n",
              "      <td>409900</td>\n",
              "      <td>0.0355</td>\n",
              "      <td>1482</td>\n",
              "      <td>57196</td>\n",
              "      <td>54.1</td>\n",
              "      <td>360</td>\n",
              "      <td>327920</td>\n",
              "    </tr>\n",
              "    <tr>\n",
              "      <th>75</th>\n",
              "      <td>Chula Vista</td>\n",
              "      <td>California</td>\n",
              "      <td>515000</td>\n",
              "      <td>0.0355</td>\n",
              "      <td>1862</td>\n",
              "      <td>65185</td>\n",
              "      <td>59.6</td>\n",
              "      <td>360</td>\n",
              "      <td>412000</td>\n",
              "    </tr>\n",
              "    <tr>\n",
              "      <th>82</th>\n",
              "      <td>Fremont</td>\n",
              "      <td>California</td>\n",
              "      <td>949000</td>\n",
              "      <td>0.0355</td>\n",
              "      <td>3430</td>\n",
              "      <td>105355</td>\n",
              "      <td>68.0</td>\n",
              "      <td>360</td>\n",
              "      <td>759200</td>\n",
              "    </tr>\n",
              "    <tr>\n",
              "      <th>84</th>\n",
              "      <td>Anaheim</td>\n",
              "      <td>California</td>\n",
              "      <td>579445</td>\n",
              "      <td>0.0357</td>\n",
              "      <td>2100</td>\n",
              "      <td>60752</td>\n",
              "      <td>72.1</td>\n",
              "      <td>360</td>\n",
              "      <td>463556</td>\n",
              "    </tr>\n",
              "    <tr>\n",
              "      <th>86</th>\n",
              "      <td>Irvine</td>\n",
              "      <td>California</td>\n",
              "      <td>897304</td>\n",
              "      <td>0.0355</td>\n",
              "      <td>3244</td>\n",
              "      <td>92278</td>\n",
              "      <td>73.4</td>\n",
              "      <td>360</td>\n",
              "      <td>717843</td>\n",
              "    </tr>\n",
              "    <tr>\n",
              "      <th>87</th>\n",
              "      <td>San Jose</td>\n",
              "      <td>California</td>\n",
              "      <td>825000</td>\n",
              "      <td>0.0355</td>\n",
              "      <td>2982</td>\n",
              "      <td>84647</td>\n",
              "      <td>73.5</td>\n",
              "      <td>360</td>\n",
              "      <td>660000</td>\n",
              "    </tr>\n",
              "    <tr>\n",
              "      <th>88</th>\n",
              "      <td>Santa Ana</td>\n",
              "      <td>California</td>\n",
              "      <td>509990</td>\n",
              "      <td>0.0355</td>\n",
              "      <td>1843</td>\n",
              "      <td>52253</td>\n",
              "      <td>73.6</td>\n",
              "      <td>360</td>\n",
              "      <td>407992</td>\n",
              "    </tr>\n",
              "    <tr>\n",
              "      <th>89</th>\n",
              "      <td>San Diego</td>\n",
              "      <td>California</td>\n",
              "      <td>675000</td>\n",
              "      <td>0.0355</td>\n",
              "      <td>2440</td>\n",
              "      <td>66116</td>\n",
              "      <td>77.0</td>\n",
              "      <td>360</td>\n",
              "      <td>540000</td>\n",
              "    </tr>\n",
              "    <tr>\n",
              "      <th>90</th>\n",
              "      <td>Long Beach</td>\n",
              "      <td>California</td>\n",
              "      <td>545000</td>\n",
              "      <td>0.0355</td>\n",
              "      <td>1970</td>\n",
              "      <td>52783</td>\n",
              "      <td>77.9</td>\n",
              "      <td>360</td>\n",
              "      <td>436000</td>\n",
              "    </tr>\n",
              "    <tr>\n",
              "      <th>91</th>\n",
              "      <td>Oakland</td>\n",
              "      <td>California</td>\n",
              "      <td>599000</td>\n",
              "      <td>0.0355</td>\n",
              "      <td>2165</td>\n",
              "      <td>54618</td>\n",
              "      <td>82.7</td>\n",
              "      <td>360</td>\n",
              "      <td>479200</td>\n",
              "    </tr>\n",
              "    <tr>\n",
              "      <th>93</th>\n",
              "      <td>San Francisco</td>\n",
              "      <td>California</td>\n",
              "      <td>1150000</td>\n",
              "      <td>0.0355</td>\n",
              "      <td>4157</td>\n",
              "      <td>81294</td>\n",
              "      <td>106.7</td>\n",
              "      <td>360</td>\n",
              "      <td>920000</td>\n",
              "    </tr>\n",
              "    <tr>\n",
              "      <th>95</th>\n",
              "      <td>Los Angeles</td>\n",
              "      <td>California</td>\n",
              "      <td>748000</td>\n",
              "      <td>0.0355</td>\n",
              "      <td>2704</td>\n",
              "      <td>50205</td>\n",
              "      <td>112.4</td>\n",
              "      <td>360</td>\n",
              "      <td>598400</td>\n",
              "    </tr>\n",
              "  </tbody>\n",
              "</table>\n",
              "</div>"
            ],
            "text/plain": [
              "              City       State  ...  Number of Periods  Present Value\n",
              "33     Bakersfield  California  ...                360         213290\n",
              "58      Sacramento  California  ...                360         234320\n",
              "61        Stockton  California  ...                360         220000\n",
              "63          Fresno  California  ...                360         207160\n",
              "70  San Bernardino  California  ...                360         212000\n",
              "71       Riverside  California  ...                360         327920\n",
              "75     Chula Vista  California  ...                360         412000\n",
              "82         Fremont  California  ...                360         759200\n",
              "84         Anaheim  California  ...                360         463556\n",
              "86          Irvine  California  ...                360         717843\n",
              "87        San Jose  California  ...                360         660000\n",
              "88       Santa Ana  California  ...                360         407992\n",
              "89       San Diego  California  ...                360         540000\n",
              "90      Long Beach  California  ...                360         436000\n",
              "91         Oakland  California  ...                360         479200\n",
              "93   San Francisco  California  ...                360         920000\n",
              "95     Los Angeles  California  ...                360         598400\n",
              "\n",
              "[17 rows x 9 columns]"
            ]
          },
          "metadata": {
            "tags": []
          },
          "execution_count": 7
        }
      ]
    },
    {
      "cell_type": "code",
      "metadata": {
        "id": "gj6Bb8KWxzcq"
      },
      "source": [
        "hourspermonth = df_cali['Hours per Month to Afford a Home']\n",
        "city = df_cali['City']"
      ],
      "execution_count": 8,
      "outputs": []
    },
    {
      "cell_type": "code",
      "metadata": {
        "colab": {
          "base_uri": "https://localhost:8080/",
          "height": 359
        },
        "id": "VZ3myerhuFwt",
        "outputId": "dcee1d74-c396-42c1-cde7-d1ff7b1a770a"
      },
      "source": [
        "fig, axes = plt.subplots(nrows = 1, ncols = 1, figsize = (10,5));\n",
        "plt.style.use('seaborn')\n",
        "axes.barh(city, hourspermonth)\n",
        "plt.xticks(fontsize = 12)\n",
        "plt.yticks(fontsize = 12)\n",
        "axes.set_xlabel('Hours Per Month', fontsize=16)\n",
        "axes.set_ylabel('Cities', fontsize=16)\n",
        "axes.set_title('The Hours Americans Work to Pay a Mortage in California', fontsize=16)\n",
        "axes.grid(c = 'b', alpha = .1, linestyle = '--')"
      ],
      "execution_count": 9,
      "outputs": [
        {
          "output_type": "display_data",
          "data": {
            "image/png": "[encoded data removed]",
            "text/plain": [
              "<Figure size 720x360 with 1 Axes>"
            ]
          },
          "metadata": {
            "tags": [],
            "needs_background": "light"
          }
        }
      ]
    },
    {
      "cell_type": "code",
      "metadata": {
        "id": "xdq6SBjR8pwQ"
      },
      "source": [
        ""
      ],
      "execution_count": null,
      "outputs": []
    }
  ]
}